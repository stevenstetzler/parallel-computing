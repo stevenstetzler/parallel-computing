{
 "cells": [
  {
   "cell_type": "code",
   "execution_count": 1,
   "metadata": {},
   "outputs": [],
   "source": [
    "import matplotlib.pyplot as plt\n",
    "import numpy as np\n",
    "from scipy.stats import linregress\n",
    "from matplotlib import rcParams"
   ]
  },
  {
   "cell_type": "code",
   "execution_count": 2,
   "metadata": {},
   "outputs": [],
   "source": [
    "rcParams['figure.figsize'] = [18, 12]\n",
    "rcParams['font.size'] = 22\n",
    "rcParams['xtick.major.size'] =  8\n",
    "rcParams['xtick.minor.size'] =  4\n",
    "rcParams['xtick.major.width'] =  2\n",
    "rcParams['xtick.minor.width'] =  2\n",
    "rcParams['ytick.major.size'] =  8\n",
    "rcParams['ytick.minor.size'] =  4\n",
    "rcParams['ytick.major.width'] =  2\n",
    "rcParams['ytick.minor.width'] =  2"
   ]
  },
  {
   "cell_type": "code",
   "execution_count": null,
   "metadata": {},
   "outputs": [],
   "source": [
    "threads = np.array([64, 32, 16, 8, 4, 2])\n",
    "type_0 = np.array([337, 434, 613, 892, ])"
   ]
  }
 ],
 "metadata": {
  "kernelspec": {
   "display_name": "Python 3",
   "language": "python",
   "name": "python3"
  },
  "language_info": {
   "codemirror_mode": {
    "name": "ipython",
    "version": 3
   },
   "file_extension": ".py",
   "mimetype": "text/x-python",
   "name": "python",
   "nbconvert_exporter": "python",
   "pygments_lexer": "ipython3",
   "version": "3.4.3"
  }
 },
 "nbformat": 4,
 "nbformat_minor": 2
}
